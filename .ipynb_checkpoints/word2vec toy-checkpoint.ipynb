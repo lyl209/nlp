{
 "cells": [
  {
   "cell_type": "code",
   "execution_count": 2,
   "metadata": {
    "collapsed": true
   },
   "outputs": [],
   "source": [
    "from gensim.models import word2vec\n",
    "import random\n",
    "import numpy as np"
   ]
  },
  {
   "cell_type": "code",
   "execution_count": 3,
   "metadata": {
    "collapsed": true
   },
   "outputs": [],
   "source": [
    "cbow_model = word2vec.Word2Vec.load_word2vec_format('/Users/mars/GitHub/word2vec/vectors.bin', binary=True)"
   ]
  },
  {
   "cell_type": "code",
   "execution_count": 23,
   "metadata": {
    "collapsed": false
   },
   "outputs": [
    {
     "name": "stdout",
     "output_type": "stream",
     "text": [
      "200\n"
     ]
    }
   ],
   "source": [
    "print len(cbow_model['crap'])"
   ]
  },
  {
   "cell_type": "code",
   "execution_count": 4,
   "metadata": {
    "collapsed": false
   },
   "outputs": [
    {
     "name": "stdout",
     "output_type": "stream",
     "text": [
      "[(u'yeah', 0.48600560426712036), (u'gonna', 0.4803088307380676), (u'me', 0.47260957956314087), (u'my', 0.4593295454978943), (u'you', 0.4352934956550598), (u'i', 0.43390926718711853), (u'mornin', 0.4268338084220886), (u'goodbye', 0.4229400157928467), (u'livin', 0.4224318861961365), (u'ya', 0.42216718196868896)]\n"
     ]
    }
   ],
   "source": [
    "print cbow_model.most_similar('crap')"
   ]
  },
  {
   "cell_type": "code",
   "execution_count": 10,
   "metadata": {
    "collapsed": false
   },
   "outputs": [
    {
     "name": "stdout",
     "output_type": "stream",
     "text": [
      "[(u'grin', 0.48253822326660156), (u'laughing', 0.48046422004699707), (u'damn', 0.47308647632598877), (u'funny', 0.4610547125339508), (u'fool', 0.4548845589160919), (u'stupid', 0.45455998182296753), (u'crazy', 0.4527096748352051), (u'bun', 0.44964417815208435), (u'nobody', 0.4494776129722595), (u'saying', 0.44438010454177856)]\n"
     ]
    }
   ],
   "source": [
    "print cbow_model.most_similar(\"awful\")"
   ]
  },
  {
   "cell_type": "code",
   "execution_count": 14,
   "metadata": {
    "collapsed": false
   },
   "outputs": [],
   "source": [
    "%matplotlib inline\n",
    "import matplotlib.pyplot as plt\n",
    "plt.rcParams['figure.figsize'] = (10.0, 8.0) # set default size of plots"
   ]
  },
  {
   "cell_type": "code",
   "execution_count": 35,
   "metadata": {
    "collapsed": false
   },
   "outputs": [
    {
     "data": {
      "text/plain": [
       "(-0.54045498967170713, 0.50443015098571775)"
      ]
     },
     "execution_count": 35,
     "metadata": {},
     "output_type": "execute_result"
    },
    {
     "data": {
      "image/png": "[encoded data removed]",
      "text/plain": [
       "<matplotlib.figure.Figure at 0x10f3cbe10>"
      ]
     },
     "metadata": {},
     "output_type": "display_data"
    }
   ],
   "source": [
    "visualizeWords = ['crap','oh','awful','crazy','saturday','monday','sunday']\n",
    "visualizeList = []\n",
    "for word in visualizeWords:\n",
    "    row = cbow_model[word]\n",
    "    visualizeList.append(row)\n",
    "\n",
    "visualizeVecs = np.vstack(visualizeList)\n",
    "\n",
    "U, s, Vh = np.linalg.svd(visualizeVecs, full_matrices=False)\n",
    "for i in xrange(len(visualizeWords)):\n",
    "    plt.text(U[i,0], U[i,1], visualizeWords[i])\n",
    "\n",
    "plt.xlim((np.min(U[:,0]) - 0.1, np.max(U[:,0]) + 0.1))\n",
    "plt.ylim((np.min(U[:,1]) - 0.1, np.max(U[:,1]) + 0.1))"
   ]
  },
  {
   "cell_type": "code",
   "execution_count": 36,
   "metadata": {
    "collapsed": false
   },
   "outputs": [
    {
     "name": "stdout",
     "output_type": "stream",
     "text": [
      "200\n"
     ]
    },
    {
     "data": {
      "text/plain": [
       "(-0.84900674819946287, 0.35482320785522459)"
      ]
     },
     "execution_count": 36,
     "metadata": {},
     "output_type": "execute_result"
    },
    {
     "data": {
      "image/png": "[encoded data removed]",
      "text/plain": [
       "<matplotlib.figure.Figure at 0x10f623710>"
      ]
     },
     "metadata": {},
     "output_type": "display_data"
    }
   ],
   "source": [
    "visualizeWords = ['man','men','king','queen','women','woman','crap','oh','awful','crazy']\n",
    "visualizeList = []\n",
    "for word in visualizeWords:\n",
    "    row = cbow_model[word]\n",
    "    visualizeList.append(row)\n",
    "\n",
    "visualizeVecs = np.vstack(visualizeList)\n",
    "\n",
    "temp = (visualizeVecs - np.mean(visualizeVecs, axis=0))\n",
    "covariance = 1.0 / len(visualizeWords) * temp.T.dot(temp)\n",
    "\n",
    "U, S, V = np.linalg.svd(covariance)\n",
    "\n",
    "print len(U[:, 0:2])\n",
    "coord = temp.dot(U[:, 0:2]) \n",
    "\n",
    "for i in xrange(len(visualizeWords)):\n",
    "    plt.text(coord[i,0], coord[i,1], visualizeWords[i])\n",
    "#, bbox=dict(facecolor='green', alpha=0.1)    \n",
    "plt.xlim((np.min(coord[:,0]) - 0.1, np.max(coord[:,0]) + 0.1))\n",
    "plt.ylim((np.min(coord[:,1]) - 0.1, np.max(coord[:,1]) + 0.1))"
   ]
  },
  {
   "cell_type": "code",
   "execution_count": 20,
   "metadata": {
    "collapsed": false
   },
   "outputs": [
    {
     "name": "stdout",
     "output_type": "stream",
     "text": [
      "[[ -5.24124930e-01  -5.72859145e-01   9.54463014e-02   3.83228493e-01\n",
      "   -1.76963375e-01  -1.76092183e-01  -4.19185600e-01  -5.57702732e-02]\n",
      " [ -5.94438071e-01   6.30120664e-01  -1.70207779e-01   3.10038363e-01\n",
      "    1.84062339e-01  -2.34777849e-01   1.29535474e-01   1.36813128e-01]\n",
      " [ -2.56274005e-01   2.74017533e-01   1.59810848e-01  -2.77555756e-16\n",
      "   -5.78984617e-01   6.36550929e-01  -1.16573418e-15  -3.05414877e-01]\n",
      " [ -2.85637408e-01  -2.47912130e-01   3.54610324e-01  -7.31901294e-02\n",
      "    4.45784489e-01   8.36141432e-02   5.48721075e-01  -4.68012411e-01]\n",
      " [ -1.93139313e-01   3.38495048e-02  -5.00790405e-01  -4.28462480e-01\n",
      "    3.47110226e-01   1.55483227e-01  -4.68663749e-01  -4.03576557e-01]\n",
      " [ -3.05134684e-01  -2.93988990e-01  -2.23433593e-01  -1.91614246e-01\n",
      "    1.27460940e-01   4.91219408e-01   2.09592800e-01   6.57535375e-01]\n",
      " [ -1.82489837e-01  -1.61027767e-01  -3.97842428e-01  -3.83228493e-01\n",
      "   -5.12923221e-01  -4.27574417e-01   4.19185600e-01  -1.18313828e-01]\n",
      " [ -2.46898426e-01   1.57254762e-01   5.92991677e-01  -6.20076727e-01\n",
      "   -3.21868120e-02  -2.31065080e-01  -2.59070949e-01   2.37976916e-01]]\n",
      "[-0.52412493 -0.59443807 -0.256274   -0.28563741 -0.19313931 -0.30513468\n",
      " -0.18248984 -0.24689843]\n",
      "[-0.57285914  0.63012066  0.27401753 -0.24791213  0.0338495  -0.29398899\n",
      " -0.16102777  0.15725476]\n"
     ]
    }
   ],
   "source": [
    "words = ['I','like','enjoy','deep','learning','NLP','flying']\n",
    "X = np.array([[0,2,1,0,0,0,0,0],\n",
    "              [2,0,0,1,0,1,0,0],\n",
    "              [1,0,0,0,0,0,1,0],\n",
    "              [0,1,0,0,1,0,0,0],\n",
    "              [0,0,0,1,0,0,0,1],\n",
    "              [0,1,0,0,0,0,0,1],\n",
    "              [0,0,1,0,0,0,0,1],\n",
    "              [0,0,0,0,1,1,1,0]])\n",
    "\n",
    "U, s, Vh = np.linalg.svd(X, full_matrices=False)\n",
    "print U\n",
    "print U[:,0]\n",
    "print U[:,1]"
   ]
  },
  {
   "cell_type": "code",
   "execution_count": 18,
   "metadata": {
    "collapsed": false
   },
   "outputs": [
    {
     "data": {
      "text/plain": [
       "(-0.67285914453699858, 0.73012066356268746)"
      ]
     },
     "execution_count": 18,
     "metadata": {},
     "output_type": "execute_result"
    },
    {
     "data": {
      "image/png": "[encoded data removed]",
      "text/plain": [
       "<matplotlib.figure.Figure at 0x10f370550>"
      ]
     },
     "metadata": {},
     "output_type": "display_data"
    }
   ],
   "source": [
    "for i in xrange(len(words)):\n",
    "    plt.text(U[i,0], U[i,1], words[i])\n",
    "\n",
    "plt.xlim((np.min(U[:,0]) - 0.1, np.max(U[:,0]) + 0.1))\n",
    "plt.ylim((np.min(U[:,1]) - 0.1, np.max(U[:,1]) + 0.1))"
   ]
  },
  {
   "cell_type": "code",
   "execution_count": null,
   "metadata": {
    "collapsed": true
   },
   "outputs": [],
   "source": []
  }
 ],
 "metadata": {
  "kernelspec": {
   "display_name": "Python 2",
   "language": "python",
   "name": "python2"
  },
  "language_info": {
   "codemirror_mode": {
    "name": "ipython",
    "version": 2
   },
   "file_extension": ".py",
   "mimetype": "text/x-python",
   "name": "python",
   "nbconvert_exporter": "python",
   "pygments_lexer": "ipython2",
   "version": "2.7.10"
  }
 },
 "nbformat": 4,
 "nbformat_minor": 0
}
