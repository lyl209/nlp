{
 "cells": [
  {
   "cell_type": "code",
   "execution_count": 3,
   "metadata": {
    "collapsed": true
   },
   "outputs": [],
   "source": [
    "import random\n",
    "import numpy as np\n",
    "import matplotlib.pyplot as plt\n",
    "\n",
    "%matplotlib inline\n",
    "plt.rcParams['figure.figsize'] = (10.0, 8.0) # set default size of plots\n",
    "plt.rcParams['image.interpolation'] = 'nearest'\n",
    "plt.rcParams['image.cmap'] = 'gray'"
   ]
  },
  {
   "cell_type": "code",
   "execution_count": 18,
   "metadata": {
    "collapsed": true
   },
   "outputs": [],
   "source": [
    "def sigmoid(x):\n",
    "    x = 1.0/(1.0 + np.exp(-x))\n",
    "    return x"
   ]
  },
  {
   "cell_type": "code",
   "execution_count": 3,
   "metadata": {
    "collapsed": false
   },
   "outputs": [
    {
     "name": "stdout",
     "output_type": "stream",
     "text": [
      "[[ 0.73105858  0.88079708]\n",
      " [ 0.26894142  0.11920292]]\n"
     ]
    }
   ],
   "source": [
    "x = np.array([[1, 2], [-1, -2]])\n",
    "print sigmoid(x)"
   ]
  },
  {
   "cell_type": "code",
   "execution_count": 7,
   "metadata": {
    "collapsed": true
   },
   "outputs": [],
   "source": [
    "def normalizeRows(x):\n",
    "    (r, c) = x.shape\n",
    "    row_sums = np.sum(x**2, axis=1)\n",
    "    x = x / np.sqrt(row_sums.reshape((r, 1)))\n",
    "    return x"
   ]
  },
  {
   "cell_type": "code",
   "execution_count": 4,
   "metadata": {
    "collapsed": true
   },
   "outputs": [],
   "source": [
    "dataset = type('sample', (), {})()\n",
    "def sampleTokenIdx():\n",
    "    return random.randint(0, 4)\n",
    "def getRandomContext(C):\n",
    "    tokens = [\"once\", \"upon\", \"a\", \"time\", \",\"]\n",
    "    return tokens[random.randint(0,4)], [tokens[random.randint(0,4)] for i in xrange(2*C)]\n",
    "\n",
    "dataset.sampleTokenIdx = sampleTokenIdx\n",
    "dataset.getRandomContext = getRandomContext"
   ]
  },
  {
   "cell_type": "code",
   "execution_count": 5,
   "metadata": {
    "collapsed": false
   },
   "outputs": [
    {
     "name": "stdout",
     "output_type": "stream",
     "text": [
      "3\n",
      "('once', [',', 'time', 'upon', 'upon'])\n"
     ]
    }
   ],
   "source": [
    "print dataset.sampleTokenIdx()\n",
    "print dataset.getRandomContext(2)"
   ]
  },
  {
   "cell_type": "code",
   "execution_count": 25,
   "metadata": {
    "collapsed": false
   },
   "outputs": [
    {
     "name": "stdout",
     "output_type": "stream",
     "text": [
      "(10L, 3L)\n",
      "[[-0.96735714 -0.02182641  0.25247529]\n",
      " [ 0.73663029 -0.48088687 -0.47552459]\n",
      " [-0.27323645  0.12538062  0.95374082]\n",
      " [-0.56713774 -0.27178229 -0.77748902]\n",
      " [-0.59609459  0.7795666   0.19221644]]\n",
      "[[-0.6831809  -0.04200519  0.72904007]\n",
      " [ 0.18289107  0.76098587 -0.62245591]\n",
      " [-0.61517874  0.5147624  -0.59713884]\n",
      " [-0.33867074 -0.80966534 -0.47931635]\n",
      " [-0.52629529 -0.78190408  0.33412466]]\n"
     ]
    }
   ],
   "source": [
    "random.seed(31415)\n",
    "np.random.seed(9265)\n",
    "vectors = normalizeRows(np.random.randn(10,3))\n",
    "tokens = dict([(\"once\",0), (\"upon\",1), (\"a\",2),(\"time\",3),(\",\",4)])\n",
    "print vectors.shape\n",
    "print vectors[:5,:] # first half\n",
    "print vectors[5:,:] # last half"
   ]
  },
  {
   "cell_type": "code",
   "execution_count": 33,
   "metadata": {
    "collapsed": false
   },
   "outputs": [
    {
     "name": "stdout",
     "output_type": "stream",
     "text": [
      "Curr Word: ,\n",
      "Curr Word Idx: 4\n",
      "Curr Word Vec from Input Vec: [-0.59609459  0.7795666   0.19221644]\n",
      "Context Word: upon\n",
      "Context Word Idx: 1\n",
      "Sample random K indices from output vectors\n",
      "[[ 0.18289107  0.76098587 -0.62245591]\n",
      " [-0.33867074 -0.80966534 -0.47931635]\n",
      " [ 0.18289107  0.76098587 -0.62245591]\n",
      " [-0.52629529 -0.78190408  0.33412466]\n",
      " [ 0.18289107  0.76098587 -0.62245591]\n",
      " [-0.52629529 -0.78190408  0.33412466]\n",
      " [-0.61517874  0.5147624  -0.59713884]\n",
      " [-0.33867074 -0.80966534 -0.47931635]\n",
      " [-0.6831809  -0.04200519  0.72904007]\n",
      " [-0.6831809  -0.04200519  0.72904007]]\n",
      "dot\n",
      "[[-0.59609459]\n",
      " [ 0.7795666 ]\n",
      " [ 0.19221644]]\n",
      "(8.3419838773308896, array([-1.7289198 ,  0.02639603, -0.3885663 ]), array([[-0.74618022,  0.97584709,  0.24061299],\n",
      "       [-0.81103882,  1.06066853,  0.26152727],\n",
      "       [-0.39207222,  0.51274816,  0.12642746],\n",
      "       [-0.44410883,  0.58080113,  0.14320717],\n",
      "       [-0.52737366,  0.68969404,  0.17005671]]))\n"
     ]
    }
   ],
   "source": [
    "inputVectors = vectors[:5,:]\n",
    "outputVectors = vectors[5:,:]\n",
    "\n",
    "currentWord = \",\"\n",
    "curr_index = tokens[currentWord]\n",
    "curr_vector = inputVectors[curr_index]\n",
    "\n",
    "print \"Curr Word:\", currentWord\n",
    "print \"Curr Word Idx:\", curr_index\n",
    "print \"Curr Word Vec from Input Vec:\", curr_vector\n",
    "\n",
    "contextWords = [\"upon\"]\n",
    "\n",
    "for context_word in contextWords:\n",
    "    context_index = tokens[context_word]\n",
    "    \n",
    "    print \"Context Word:\", context_word\n",
    "    print \"Context Word Idx:\", context_index\n",
    "\n",
    "    print negativeSampling(curr_vector, context_index, outputVectors)\n",
    "\n",
    "    # negativeSampling(predicted, target, outputVectors, K=10)\n",
    "    "
   ]
  },
  {
   "cell_type": "code",
   "execution_count": 32,
   "metadata": {
    "collapsed": true
   },
   "outputs": [],
   "source": [
    "def negativeSampling(inputVec, contextIdx, outputVectors, K=10):\n",
    "    # Implement the cost and gradients for one input/predicted word vector  \n",
    "    # and one context/target word vector as a building block for word2vec     \n",
    "    # models, using the negative sampling technique. K is the sample size.                                               \n",
    "    \n",
    "    N, D = outputVectors.shape\n",
    "    \n",
    "    # Get the K random indices (rows into outputVectors)\n",
    "    k_indices = []\n",
    "    for i in xrange(K):\n",
    "        rand_index = dataset.sampleTokenIdx()\n",
    "        k_indices.append(rand_index)\n",
    "        \n",
    "    \n",
    "    w_out = outputVectors[k_indices, 0:D] # size K x D\n",
    "    \n",
    "    print \"Sample random K indices from output vectors\"\n",
    "    print w_out    \n",
    "    \n",
    "    w_out_dot_r = sigmoid(np.dot(w_out, -1.0 * inputVec.reshape((D, 1)))) # size K x 1\n",
    "            \n",
    "    s = np.sum(np.log(w_out_dot_r))\n",
    "    \n",
    "    sigm_target = sigmoid(np.dot(inputVec, outputVectors[contextIdx]))\n",
    "    \n",
    "    cost = -1.0 * np.log(sigm_target) - s\n",
    "        \n",
    "    x1 = 1.0 - w_out_dot_r # shape is (K, 1)\n",
    "    x2 = np.dot(x1.reshape((1, K)), w_out).reshape((1, D))\n",
    "    \n",
    "    gradPred = (sigm_target - 1.0) * outputVectors[contextIdx].reshape((1, D)) + x2\n",
    "    gradPred = gradPred.reshape(inputVec.shape)\n",
    "    \n",
    "    grad = np.zeros(outputVectors.shape)\n",
    "    grad[contextIdx, :] = inputVec * (sigmoid(np.dot(inputVec, outputVectors[contextIdx])) - 1.0)\n",
    "    for k in k_indices:\n",
    "        grad[k, :] += -1.0 * inputVec * (sigmoid(np.dot(-1.0 * inputVec, outputVectors[k])) - 1.0)\n",
    "        \n",
    "    # cost_curr, grad_in_curr, grad_out_curr     \n",
    "    return cost, gradPred, grad"
   ]
  },
  {
   "cell_type": "code",
   "execution_count": null,
   "metadata": {
    "collapsed": true
   },
   "outputs": [],
   "source": []
  }
 ],
 "metadata": {
  "kernelspec": {
   "display_name": "Python 2",
   "language": "python",
   "name": "python2"
  },
  "language_info": {
   "codemirror_mode": {
    "name": "ipython",
    "version": 2
   },
   "file_extension": ".py",
   "mimetype": "text/x-python",
   "name": "python",
   "nbconvert_exporter": "python",
   "pygments_lexer": "ipython2",
   "version": "2.7.10"
  }
 },
 "nbformat": 4,
 "nbformat_minor": 0
}
